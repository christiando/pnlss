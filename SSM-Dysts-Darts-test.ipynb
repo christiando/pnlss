{
 "cells": [
  {
   "cell_type": "code",
   "execution_count": null,
   "id": "11fff1b0-1c5c-442f-a3c5-1155342a0e8a",
   "metadata": {},
   "outputs": [],
   "source": [
    "%matplotlib inline\n",
    "%load_ext autoreload\n",
    "%autoreload 2\n",
    "\n",
    "import sys\n",
    "import os\n",
    "import json\n",
    "import matplotlib.pyplot as plt\n",
    "\n",
    "import seaborn as sns\n",
    "sns.set_style()\n",
    "import pandas as pd\n",
    "\n",
    "import jax\n",
    "from jax import config\n",
    "config.update(\"jax_enable_x64\", True)\n",
    "try:\n",
    "    jax.devices()\n",
    "except:\n",
    "    config.update('jax_platforms','cpu')\n",
    "    \n",
    "sys.path.append(os.path.join(os.getcwd(),'repos/dysts/'))\n",
    "import dysts\n",
    "from dysts.datasets import *\n",
    "from dysts.flows import *\n",
    "from dysts.base import *\n",
    "from dysts.utils import *\n",
    "from dysts.analysis import *\n",
    "\n",
    "# Darts implementation\n",
    "\n",
    "# HS using local darts\n",
    "sys.path.append(os.path.join(os.getcwd(),'repos/darts/'))\n",
    "import darts\n",
    "from darts.models import *\n",
    "from darts import TimeSeries\n",
    "import darts.models\n",
    "\n",
    "import numpy as np\n",
    "np.random.seed(0)\n",
    "\n",
    "from copy import deepcopy"
   ]
  },
  {
   "cell_type": "markdown",
   "id": "2493ada9-5d9a-49ef-b9c6-dce4b2f980e7",
   "metadata": {},
   "source": [
    "# Fitting to the loaded chaotic system"
   ]
  },
  {
   "cell_type": "code",
   "execution_count": null,
   "id": "5aa909d1-8c34-4160-93cc-b5353f050b45",
   "metadata": {},
   "outputs": [],
   "source": [
    "input_path = \"train_univariate__pts_per_period_100__periods_12.json\"\n",
    "#input_path = os.getcwd() + \"/../dysts/dysts/data/train_univariate__pts_per_period_100__periods_12_noise.json\"\n",
    "#input_path = os.getcwd() + \"/../dysts/benchmarks/results/results_train_univariate__pts_per_period_100__periods_12_noise.json\"\n",
    "\n",
    "dataname = os.path.splitext(os.path.basename(os.path.split(input_path)[-1]))[0]\n",
    "equation_data = load_file(input_path)    \n",
    "\n",
    "\n",
    "hyperparameter_path = \"repos/dysts/benchmarks/hyperparameters/220812_hyperparameters_\" + dataname + \".json\"\n",
    "#220518_hyperparameters_\n",
    "with open(hyperparameter_path, \"r\") as file:\n",
    "    all_hyperparameters = json.load(file)"
   ]
  },
  {
   "cell_type": "code",
   "execution_count": null,
   "id": "47f9d19c-e6e3-4355-bf07-9e93626d90b9",
   "metadata": {},
   "outputs": [],
   "source": [
    "equation_name = \"BeerRNN\" \n",
    "# \"Aizawa\" \n",
    "# \"Arneodo\"\n",
    "# \"AnishchenkoAstakhov\"\n",
    "# \"BelousovZhabotinsky\"\n",
    "# \"BlinkingVortex\"\n",
    "# \"CellularNeuralNetwork\"\n",
    "# \"Chen\"\n",
    "# \"Chua\"\n",
    "# \"CircadianRhythm\"\n",
    "# \"CoevolvingPredatorPrey\"\n",
    "# \"Duffing\"\n",
    "# \"Halvorsen\"\n",
    "# \"HenonHeiles\"\n",
    "# \"Lorenz\"\n",
    "# \"PiecewiseCircuit\"\n",
    "# \"Rossler\"\n",
    "# \"Thomas\"\n",
    "# \"Blasius\"\n",
    "\n",
    "# Error\n",
    "# \"GenesioTesi\"\n",
    "\n",
    "train_data = np.copy(np.array(equation_data.dataset[equation_name][\"values\"]))\n",
    "train_data_noiseless = deepcopy(train_data)\n",
    "\n",
    "#add noise\n",
    "noise_scale = np.std(train_data[:int(5/6 * len(train_data))]) # prevent leakage\n",
    "train_data += 0.2 * np.std(train_data) * np.random.normal(size=train_data.shape[0])\n",
    "#train_data += 0.5 * np.std(train_data) * np.random.normal(size=train_data.shape[0])\n",
    "      \n",
    "split_point = int(5/6 * len(train_data))\n",
    "y_train, y_val = train_data[:split_point], train_data[split_point:]\n",
    "y_train_ts, y_test_ts = TimeSeries.from_dataframe(pd.DataFrame(train_data)).split_before(split_point)\n",
    "\n",
    "    \n",
    "plt.plot(train_data, lw=.1)\n",
    "plt.plot(train_data_noiseless, lw=.5)\n",
    "plt.plot(y_train, lw=.1)"
   ]
  },
  {
   "cell_type": "code",
   "execution_count": null,
   "id": "e8558d9d-c2ab-4faa-80fa-cb5a0ad5b977",
   "metadata": {},
   "outputs": [],
   "source": [
    "y_train;"
   ]
  },
  {
   "cell_type": "code",
   "execution_count": null,
   "id": "953c7564-b5da-4603-a86c-d1c9457f5810",
   "metadata": {},
   "outputs": [],
   "source": [
    "#RBF Takens"
   ]
  },
  {
   "cell_type": "code",
   "execution_count": null,
   "id": "be2bf261-b5a2-49e2-b3af-37192bd2261e",
   "metadata": {},
   "outputs": [],
   "source": [
    "# # Fitting NLSS\n",
    "# model_name = \"RBF_Takens\" #\"LSS\"##\"NLSS_Sampling\" #\"LSS\" #\n",
    "# print(all_hyperparameters[equation_name][model_name])\n",
    "# model_RBF = getattr(darts.models, model_name)(**all_hyperparameters[equation_name][model_name])\n",
    "# model_RBF.fit(y_train_ts)"
   ]
  },
  {
   "cell_type": "code",
   "execution_count": null,
   "id": "427212ba-f3ed-43a0-9c03-deec10588d97",
   "metadata": {},
   "outputs": [],
   "source": [
    "# # Predictiong by RBF\n",
    "# tmp = model_RBF.predict(len(y_val))\n",
    "# y_val_pred = {model_name: tmp}\n",
    "\n",
    "# plt.plot(train_data, lw=.1)\n",
    "# y_val_pred[model_name].plot(color=\"red\", label=\"Prediction\")"
   ]
  },
  {
   "cell_type": "code",
   "execution_count": null,
   "id": "c4276326-e039-4d05-bd68-65069cb91ef9",
   "metadata": {},
   "outputs": [],
   "source": [
    "darts.models"
   ]
  },
  {
   "cell_type": "markdown",
   "id": "a960263b-a00b-44eb-9d50-ead4034f6eff",
   "metadata": {
    "tags": []
   },
   "source": [
    "## LSS Takens"
   ]
  },
  {
   "cell_type": "code",
   "execution_count": null,
   "id": "525b0a7f-7479-4703-9457-57acdaf22842",
   "metadata": {},
   "outputs": [],
   "source": [
    "# Fitting LSS\n",
    "model_name = \"LSS_Takens\"\n",
    "model_LSS_Takens = getattr(darts.models, model_name)(**all_hyperparameters[equation_name][model_name])\n",
    "model_LSS_Takens.fit(y_train_ts)"
   ]
  },
  {
   "cell_type": "code",
   "execution_count": null,
   "id": "6adcb7ba-e4a2-42fd-b81a-c4ea2911c80d",
   "metadata": {},
   "outputs": [],
   "source": [
    "# Predictiong by LSS\n",
    "tmp = model_LSS_Takens.predict(len(y_val))\n",
    "y_val_pred = {model_name: tmp} \n",
    "\n",
    "plt.plot(train_data, lw=.1)\n",
    "y_val_pred[model_name].plot(color=\"red\", label=\"Prediction\")"
   ]
  },
  {
   "cell_type": "markdown",
   "id": "c3573bfb-435b-41c9-9f63-d3228ebcce0d",
   "metadata": {},
   "source": [
    "## NLSS Takens"
   ]
  },
  {
   "cell_type": "code",
   "execution_count": null,
   "id": "74a65f38-a3b9-419d-bda2-2307dbdde657",
   "metadata": {},
   "outputs": [],
   "source": [
    "# Fitting NLSS\n",
    "model_name = \"NLSS_Takens\" #\"LSS\"##\"NLSS_Sampling\" #\"LSS\" #\n",
    "model_NLSS = getattr(darts.models, model_name)(**all_hyperparameters[equation_name][model_name])\n",
    "model_NLSS.fit(y_train_ts)"
   ]
  },
  {
   "cell_type": "code",
   "execution_count": null,
   "id": "8e2c1a92-15b0-4e26-9333-b5306fd29c88",
   "metadata": {},
   "outputs": [],
   "source": [
    "# Predictiong by NLSS\n",
    "tmp = model_NLSS.predict(len(y_val))\n",
    "#tmp = model_NLSS.predict_noiseless(len(y_val))\n",
    "#tmp = model_NLSS.predict_sample(len(y_val))\n",
    "y_val_pred = {model_name: tmp}\n",
    "\n",
    "plt.plot(train_data, lw=.1)\n",
    "y_val_pred[model_name].plot(color=\"red\", label=\"Prediction\")"
   ]
  },
  {
   "cell_type": "code",
   "execution_count": null,
   "id": "236dbc15-6d2b-4390-b427-1370cbd1b221",
   "metadata": {},
   "outputs": [],
   "source": [
    "y_train[-1]"
   ]
  },
  {
   "cell_type": "code",
   "execution_count": null,
   "id": "680c7538-9207-454e-bea3-ed637b7c67c0",
   "metadata": {},
   "outputs": [],
   "source": [
    "# # Predictiong by NLSS\n",
    "# #tmp = model_NLSS.predict(len(y_val))\n",
    "# tmp = model_NLSS.predict_noiseless(len(y_val))\n",
    "# y_val_pred = {model_name: tmp}\n",
    "\n",
    "# plt.plot(train_data, lw=.1)\n",
    "# y_val_pred[model_name].plot(color=\"red\", label=\"Prediction\")"
   ]
  },
  {
   "cell_type": "code",
   "execution_count": null,
   "id": "8ac5d4b8-12ad-4195-a37f-b0e0abe4edb1",
   "metadata": {},
   "outputs": [],
   "source": [
    "DIM = model_NLSS.ssm_emd.sm.Dk * (1 + 2*model_NLSS.ssm_emd.sm.Dz)\n",
    "DIM"
   ]
  },
  {
   "cell_type": "code",
   "execution_count": null,
   "id": "2c002405-b5eb-4cbe-b435-b5d142c36619",
   "metadata": {},
   "outputs": [],
   "source": [
    "#y_val_pred[\"NLSS_Takens\"]"
   ]
  },
  {
   "cell_type": "code",
   "execution_count": null,
   "id": "adc8f831-dfcc-4f27-b76a-94bfef0e8884",
   "metadata": {},
   "outputs": [],
   "source": [
    "# Saving data\n",
    "#y_train_ts.to_pickle('y_train_ts.pkl')\n",
    "y_train_ts.to_csv('y_train_ts.csv')"
   ]
  },
  {
   "cell_type": "markdown",
   "id": "deb3f28c-7fc7-4940-8254-28ea34892e5f",
   "metadata": {},
   "source": [
    "## ARIMA"
   ]
  },
  {
   "cell_type": "code",
   "execution_count": null,
   "id": "7cace796-38fe-4fd2-97a5-b7cc9fb1d9c3",
   "metadata": {},
   "outputs": [],
   "source": [
    "#model_name = \"KalmanForecaster\"\n",
    "model_name = \"ARIMA\"\n",
    "model = getattr(darts.models, model_name)(**all_hyperparameters[equation_name][model_name])\n",
    "model.fit(y_train_ts)\n",
    "\n",
    "tmp = model.predict(len(y_val))\n",
    "y_val_pred = {model_name: tmp} \n",
    "#y_val_pred[model_name] \n",
    "\n",
    "plt.plot(train_data, lw=.1)\n",
    "y_val_pred[model_name].plot(color=\"red\", label=\"Prediction\")"
   ]
  },
  {
   "cell_type": "code",
   "execution_count": null,
   "id": "a72d1fe3-eb0f-472c-ad8c-e4b8d799ea63",
   "metadata": {},
   "outputs": [],
   "source": [
    "model_name = \"RNNModel\"\n",
    "model = getattr(darts.models, model_name)(**all_hyperparameters[equation_name][model_name])\n",
    "model.fit(y_train_ts)\n",
    "\n",
    "y_val_pred[model_name] = model.predict(len(y_val))\n",
    "\n",
    "plt.plot(train_data, lw=.1)\n",
    "y_val_pred[model_name].plot(color=\"red\", label=\"Prediction\")"
   ]
  },
  {
   "cell_type": "code",
   "execution_count": null,
   "id": "a495f865-63f3-4f70-9364-e4329dcaeecc",
   "metadata": {},
   "outputs": [],
   "source": [
    "## TransformerModel"
   ]
  },
  {
   "cell_type": "code",
   "execution_count": null,
   "id": "199a75fc-36f7-4883-af1a-37d29df89169",
   "metadata": {},
   "outputs": [],
   "source": [
    "model_name = \"TransformerModel\"\n",
    "model = getattr(darts.models, model_name)(**all_hyperparameters[equation_name][model_name])\n",
    "model.fit(y_train_ts)\n",
    "\n",
    "y_val_pred[model_name] = model.predict(len(y_val))\n",
    "\n",
    "plt.plot(train_data, lw=.1)\n",
    "y_val_pred[model_name].plot(color=\"red\", label=\"Prediction\")"
   ]
  },
  {
   "cell_type": "markdown",
   "id": "5c488f9d-7cad-406e-b6ce-2da531d6baf5",
   "metadata": {
    "tags": []
   },
   "source": [
    "## NBEATSModel"
   ]
  },
  {
   "cell_type": "code",
   "execution_count": null,
   "id": "d29dac3e-8c34-47a0-b9e1-262b42c410a4",
   "metadata": {},
   "outputs": [],
   "source": [
    "model_name = \"NBEATSModel\"\n",
    "model = getattr(darts.models, model_name)(**all_hyperparameters[equation_name][model_name])\n",
    "model.fit(y_train_ts)\n",
    "\n",
    "y_val_pred[model_name] = model.predict(len(y_val))\n",
    "\n",
    "plt.plot(train_data, lw=.1)\n",
    "y_val_pred[model_name].plot(color=\"red\", label=\"Prediction\")"
   ]
  },
  {
   "cell_type": "markdown",
   "id": "ac2d9b32-c266-4449-9a85-daf65cb73a7a",
   "metadata": {},
   "source": [
    "# Plot"
   ]
  },
  {
   "cell_type": "code",
   "execution_count": null,
   "id": "92b0ba33-65d2-4d00-9d1d-e8826498529d",
   "metadata": {},
   "outputs": [],
   "source": [
    "model_names = ['ARIMA','RNNModel','TransformerModel','NBEATSModel','NLSS_Takens']\n",
    "#model_names = ['RNNModel','TransformerModel','NBEATSModel','NLSS_Takens']\n",
    "#model_names = ['ARIMA','RNNModel','NBEATSModel','NLSS_Takens']\n",
    "\n",
    "i = 1\n",
    "for model_name in model_names:\n",
    "    plt.subplot(len(model_names),1,i)\n",
    "    \n",
    "    \n",
    "    plt.plot(train_data_noiseless, lw = .2)\n",
    "    plt.plot(y_train, lw = .2)\n",
    "    \n",
    "    if model_name == 'NLSS_Takens':\n",
    "        y_val_pred[model_name].plot(label=model_name, color='red') #\n",
    "        plt.legend(loc='upper left')\n",
    "    else:\n",
    "        ax = y_val_pred[model_name].plot(xticks=[], color='blue', label=model_name)\n",
    "        plt.legend(loc='upper left')\n",
    "        plt.xlabel('')    \n",
    "\n",
    "    plt.xlim([600, 1200]) \n",
    "    #plt.ylim([-2, 2]) \n",
    "    \n",
    "    if i == 1:\n",
    "        plt.title(f'{equation_name}')\n",
    "        \n",
    "        \n",
    "    i = i + 1\n",
    "\n"
   ]
  },
  {
   "cell_type": "markdown",
   "id": "8e887f4d-4b79-4d1c-be36-71aa2897bf31",
   "metadata": {},
   "source": [
    "# MISC"
   ]
  },
  {
   "cell_type": "code",
   "execution_count": null,
   "id": "9e8dac37-dc2e-4eae-b653-7acd8ba564e4",
   "metadata": {},
   "outputs": [],
   "source": [
    "y_val_pred[model_name]"
   ]
  },
  {
   "cell_type": "code",
   "execution_count": null,
   "id": "6ed3c346-260a-4721-bb6b-f91b5a34698d",
   "metadata": {},
   "outputs": [],
   "source": [
    "model_name = \"NBEATSModel\"\n",
    "model = getattr(darts.models, model_name)(**all_hyperparameters[equation_name][model_name])\n"
   ]
  }
 ],
 "metadata": {
  "kernelspec": {
   "display_name": "Python 3 (ipykernel)",
   "language": "python",
   "name": "python3"
  },
  "language_info": {
   "codemirror_mode": {
    "name": "ipython",
    "version": 3
   },
   "file_extension": ".py",
   "mimetype": "text/x-python",
   "name": "python",
   "nbconvert_exporter": "python",
   "pygments_lexer": "ipython3",
   "version": "3.10.15"
  }
 },
 "nbformat": 4,
 "nbformat_minor": 5
}
